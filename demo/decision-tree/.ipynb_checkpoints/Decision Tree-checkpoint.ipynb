{
 "cells": [
  {
   "cell_type": "code",
   "execution_count": 1,
   "metadata": {},
   "outputs": [
    {
     "name": "stdout",
     "output_type": "stream",
     "text": [
      "['RID\\t', 'age', 'income', 'student', 'credit_rating', 'class_buys_computer']\n"
     ]
    }
   ],
   "source": [
    "from sklearn.feature_extraction import DictVectorizer\n",
    "import csv\n",
    "from sklearn import preprocessing\n",
    "from sklearn import tree\n",
    "from sklearn.externals.six import StringIO\n",
    "\n",
    "file = open(r'./AllElectronics.csv', 'rt')\n",
    "reader = csv.reader(file)\n",
    "headers = next(reader)\n",
    "\n",
    "print(headers)"
   ]
  },
  {
   "cell_type": "code",
   "execution_count": 2,
   "metadata": {},
   "outputs": [
    {
     "name": "stdout",
     "output_type": "stream",
     "text": [
      "[{'age': ' youth', 'income': 'high', 'student': 'no', 'credit_rating': 'fair'}, {'age': 'youth', 'income': 'high', 'student': 'no', 'credit_rating': 'excellent'}, {'age': 'middle_aged', 'income': 'high', 'student': 'no', 'credit_rating': 'fair'}, {'age': 'senior', 'income': 'medium', 'student': 'no', 'credit_rating': 'fair'}, {'age': 'senior', 'income': 'low', 'student': 'yes', 'credit_rating': 'fair'}, {'age': 'senior', 'income': 'low', 'student': 'yes', 'credit_rating': 'excellent'}, {'age': 'middle_aged', 'income': 'low', 'student': 'yes', 'credit_rating': 'excellent'}, {'age': 'youth', 'income': 'medium', 'student': 'no', 'credit_rating': 'fair'}, {'age': 'youth', 'income': 'low', 'student': 'yes', 'credit_rating': 'fair'}, {'age': 'senior', 'income': 'medium', 'student': 'yes', 'credit_rating': 'fair'}, {'age': 'youth', 'income': 'medium', 'student': 'yes', 'credit_rating': 'excellent'}, {'age': 'middle_aged', 'income': 'medium', 'student': 'no', 'credit_rating': 'excellent'}, {'age': 'middle_aged', 'income': 'high', 'student': 'yes', 'credit_rating': 'fair'}, {'age': 'senior', 'income': 'medium', 'student': 'no', 'credit_rating': 'excellent'}]\n"
     ]
    }
   ],
   "source": [
    "# featureList存放特征属性，转换成多维：举例子“身高属性”的取值“高”“矮”{1.0,0.0}，  \n",
    "# 若没有序关系，假定有k个属性值，则通常转化成k维向量，  \n",
    "# 例如属性”瓜类“的取值“西瓜”“南瓜”“黄瓜”可转化为（0,0,1）（0,1,0）（1,0,0）。  \n",
    "featureList = []  \n",
    "# labelList存放标签属性  \n",
    "labelList = []  \n",
    "  \n",
    "for row in reader:  \n",
    "# 读入标签  \n",
    "    labelList.append(row[len(row)-1])  \n",
    "    # 添加字典，将属性添加到字典中  \n",
    "    rowDict = {}\n",
    "    #将所有特征放入rowDict中\n",
    "    for i in range(1, len(row)-1):  \n",
    "        rowDict[headers[i]] = row[i]  \n",
    "    # 将字典存放到特征属性当中  \n",
    "    featureList.append(rowDict)  \n",
    "  \n",
    "print(featureList)"
   ]
  },
  {
   "cell_type": "code",
   "execution_count": 3,
   "metadata": {},
   "outputs": [
    {
     "name": "stdout",
     "output_type": "stream",
     "text": [
      "dummyX: [[1. 0. 0. 0. 0. 1. 1. 0. 0. 1. 0.]\n",
      " [0. 0. 0. 1. 1. 0. 1. 0. 0. 1. 0.]\n",
      " [0. 1. 0. 0. 0. 1. 1. 0. 0. 1. 0.]\n",
      " [0. 0. 1. 0. 0. 1. 0. 0. 1. 1. 0.]\n",
      " [0. 0. 1. 0. 0. 1. 0. 1. 0. 0. 1.]\n",
      " [0. 0. 1. 0. 1. 0. 0. 1. 0. 0. 1.]\n",
      " [0. 1. 0. 0. 1. 0. 0. 1. 0. 0. 1.]\n",
      " [0. 0. 0. 1. 0. 1. 0. 0. 1. 1. 0.]\n",
      " [0. 0. 0. 1. 0. 1. 0. 1. 0. 0. 1.]\n",
      " [0. 0. 1. 0. 0. 1. 0. 0. 1. 0. 1.]\n",
      " [0. 0. 0. 1. 1. 0. 0. 0. 1. 0. 1.]\n",
      " [0. 1. 0. 0. 1. 0. 0. 0. 1. 1. 0.]\n",
      " [0. 1. 0. 0. 0. 1. 1. 0. 0. 0. 1.]\n",
      " [0. 0. 1. 0. 1. 0. 0. 0. 1. 1. 0.]]\n",
      "['age= youth', 'age=middle_aged', 'age=senior', 'age=youth', 'credit_rating=excellent', 'credit_rating=fair', 'income=high', 'income=low', 'income=medium', 'student=no', 'student=yes']\n",
      "labelList: ['no', 'no', 'yes', 'yes', 'yes', 'no', 'yes', 'no', 'yes', 'yes', 'yes', 'yes', 'yes', 'no']\n"
     ]
    }
   ],
   "source": [
    "# Vetorize features  \n",
    "vec = DictVectorizer()  \n",
    "# python的模块，将字典转换成上面的属性形式  \n",
    "dummyX = vec.fit_transform(featureList) .toarray()  \n",
    "  \n",
    "print(\"dummyX: \" + str(dummyX))  \n",
    "print(vec.get_feature_names())  \n",
    "  \n",
    "print(\"labelList: \" + str(labelList))  "
   ]
  },
  {
   "cell_type": "code",
   "execution_count": 4,
   "metadata": {},
   "outputs": [
    {
     "name": "stdout",
     "output_type": "stream",
     "text": [
      "dummyY: [[0]\n",
      " [0]\n",
      " [1]\n",
      " [1]\n",
      " [1]\n",
      " [0]\n",
      " [1]\n",
      " [0]\n",
      " [1]\n",
      " [1]\n",
      " [1]\n",
      " [1]\n",
      " [1]\n",
      " [0]]\n"
     ]
    }
   ],
   "source": [
    "# vectorize class labels  \n",
    "lb = preprocessing.LabelBinarizer()  \n",
    "dummyY = lb.fit_transform(labelList)  \n",
    "print(\"dummyY: \" + str(dummyY)) "
   ]
  },
  {
   "cell_type": "code",
   "execution_count": 5,
   "metadata": {},
   "outputs": [
    {
     "name": "stdout",
     "output_type": "stream",
     "text": [
      "clf: DecisionTreeClassifier(class_weight=None, criterion='entropy', max_depth=None,\n",
      "            max_features=None, max_leaf_nodes=None,\n",
      "            min_impurity_decrease=0.0, min_impurity_split=None,\n",
      "            min_samples_leaf=1, min_samples_split=2,\n",
      "            min_weight_fraction_leaf=0.0, presort=False, random_state=None,\n",
      "            splitter='best')\n"
     ]
    }
   ],
   "source": [
    "# Using decision tree for classification  \n",
    "# clf = tree.DecisionTreeClassifier()  \n",
    "# sklearn的决策树使用  \n",
    "clf = tree.DecisionTreeClassifier(criterion='entropy')  \n",
    "clf = clf.fit(dummyX, dummyY)  \n",
    "print(\"clf: \" + str(clf))  "
   ]
  },
  {
   "cell_type": "code",
   "execution_count": 6,
   "metadata": {},
   "outputs": [
    {
     "name": "stdout",
     "output_type": "stream",
     "text": [
      "oneRowX: [1. 0. 0. 0. 0. 1. 1. 0. 0. 1. 0.]\n"
     ]
    }
   ],
   "source": [
    "# Visualize model  \n",
    "# 运用graphviz将决策树写到文档中  \n",
    "with open(\"allElectronicInformationGainOri.dot\", 'w') as f:  \n",
    "    f = tree.export_graphviz(clf, feature_names=vec.get_feature_names(), out_file=f) \n",
    "\n",
    "# 去除第一行  \n",
    "oneRowX = dummyX[0, :]  \n",
    "print(\"oneRowX: \" + str(oneRowX)) "
   ]
  },
  {
   "cell_type": "code",
   "execution_count": 7,
   "metadata": {},
   "outputs": [
    {
     "name": "stdout",
     "output_type": "stream",
     "text": [
      "newRowX: [1. 0. 0. 0. 0. 1. 1. 0. 0. 1. 0.]\n",
      "predictedY: [0]\n"
     ]
    }
   ],
   "source": [
    "# 修改第一行的数据，然后进行预测  \n",
    "newRowX = oneRowX  \n",
    "newRowX[0] = 1  \n",
    "newRowX[2] = 0  \n",
    "print(\"newRowX: \" + str(newRowX))\n",
    "predictedY = clf.predict(newRowX.reshape(1, -1))  \n",
    "print(\"predictedY: \" + str(predictedY)) "
   ]
  },
  {
   "cell_type": "code",
   "execution_count": null,
   "metadata": {},
   "outputs": [],
   "source": []
  }
 ],
 "metadata": {
  "kernelspec": {
   "display_name": "Python 3",
   "language": "python",
   "name": "python3"
  },
  "language_info": {
   "codemirror_mode": {
    "name": "ipython",
    "version": 3
   },
   "file_extension": ".py",
   "mimetype": "text/x-python",
   "name": "python",
   "nbconvert_exporter": "python",
   "pygments_lexer": "ipython3",
   "version": "3.6.4"
  }
 },
 "nbformat": 4,
 "nbformat_minor": 2
}
